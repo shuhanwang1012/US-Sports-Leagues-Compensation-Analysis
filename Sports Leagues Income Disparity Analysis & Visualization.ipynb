{
  "nbformat": 4,
  "nbformat_minor": 0,
  "metadata": {
    "colab": {
      "provenance": []
    },
    "kernelspec": {
      "name": "python3",
      "display_name": "Python 3"
    },
    "language_info": {
      "name": "python"
    }
  },
  "cells": [
    {
      "cell_type": "code",
      "execution_count": null,
      "metadata": {
        "id": "mPb3keAIba5D"
      },
      "outputs": [],
      "source": [
        "import pandas as pd\n",
        "import matplotlib.pyplot as plt\n",
        "import numpy as np\n",
        "import matplotlib.ticker as ticker"
      ]
    },
    {
      "cell_type": "code",
      "source": [
        "# Read the CSV file\n",
        "mlb = pd.read_csv('MLB Yearly Breakdown  Spotrac.csv')\n",
        "nhl = pd.read_csv('NHL Yearly Breakdown  Spotrac.csv')\n",
        "nba = pd.read_csv('NBA Yearly Breakdown  Spotrac.csv')\n",
        "nfl = pd.read_csv('NFL Yearly Breakdown  Spotrac.csv')"
      ],
      "metadata": {
        "id": "pwp49OUwc1MO"
      },
      "execution_count": null,
      "outputs": []
    },
    {
      "cell_type": "code",
      "source": [
        "# mlb.dropna(subset=['Average Income'], inplace=True)\n",
        "# mls.dropna(subset=['Average Income'], inplace=True)\n",
        "# #nba.dropna(subset=['AAV'], inplace=True)\n",
        "# nfl.dropna(subset=['Average Income'], inplace=True)"
      ],
      "metadata": {
        "id": "zY7J2aO0fyLh"
      },
      "execution_count": null,
      "outputs": []
    },
    {
      "cell_type": "code",
      "source": [
        "mlb['AAV'] = mlb['AAV'].str.replace(',', '')\n",
        "mlb['AAV'] = mlb['AAV'].str.replace('.', '')\n",
        "mlb['AAV'] = mlb['AAV'].str.strip()"
      ],
      "metadata": {
        "id": "9-518-PsjOaD",
        "colab": {
          "base_uri": "https://localhost:8080/"
        },
        "outputId": "9fcb8a05-4bd8-4fba-c54b-29b3992b2950"
      },
      "execution_count": null,
      "outputs": [
        {
          "output_type": "stream",
          "name": "stderr",
          "text": [
            "<ipython-input-64-f19bfc3bbd0b>:2: FutureWarning: The default value of regex will change from True to False in a future version. In addition, single character regular expressions will *not* be treated as literal strings when regex=True.\n",
            "  mlb['AAV'] = mlb['AAV'].str.replace('.', '')\n"
          ]
        }
      ]
    },
    {
      "cell_type": "code",
      "source": [
        "nhl['AAV'] = nhl['AAV'].str.replace(',', '')\n",
        "nhl['AAV'] = nhl['AAV'].str.replace('.', '')\n",
        "nhl['AAV'] = nhl['AAV'].str.strip()"
      ],
      "metadata": {
        "id": "8tCARjBck1TK",
        "colab": {
          "base_uri": "https://localhost:8080/"
        },
        "outputId": "859ae823-f7a4-4ca8-b4b3-4734dc706059"
      },
      "execution_count": null,
      "outputs": [
        {
          "output_type": "stream",
          "name": "stderr",
          "text": [
            "<ipython-input-65-a2aebd98e1db>:2: FutureWarning: The default value of regex will change from True to False in a future version. In addition, single character regular expressions will *not* be treated as literal strings when regex=True.\n",
            "  nhl['AAV'] = nhl['AAV'].str.replace('.', '')\n"
          ]
        }
      ]
    },
    {
      "cell_type": "code",
      "source": [
        "nba['AAV'] = nba['AAV'].str.replace(',', '')\n",
        "nba['AAV'] = nba['AAV'].str.replace('.', '')\n",
        "nba['AAV'] = nba['AAV'].str.strip()"
      ],
      "metadata": {
        "id": "X2PxSq1Hk3L8",
        "colab": {
          "base_uri": "https://localhost:8080/"
        },
        "outputId": "95f83698-ad9d-47d7-edb9-29646980e366"
      },
      "execution_count": null,
      "outputs": [
        {
          "output_type": "stream",
          "name": "stderr",
          "text": [
            "<ipython-input-66-a71e08a3d071>:2: FutureWarning: The default value of regex will change from True to False in a future version. In addition, single character regular expressions will *not* be treated as literal strings when regex=True.\n",
            "  nba['AAV'] = nba['AAV'].str.replace('.', '')\n"
          ]
        }
      ]
    },
    {
      "cell_type": "code",
      "source": [
        "nfl['AAV'] = nfl['AAV'].str.replace(',', '')\n",
        "nfl['AAV'] = nfl['AAV'].str.replace('.', '')\n",
        "nfl['AAV'] = nfl['AAV'].str.strip()"
      ],
      "metadata": {
        "id": "PH45hXFtk5uJ",
        "colab": {
          "base_uri": "https://localhost:8080/"
        },
        "outputId": "e2b64f14-7db5-43a6-ea9a-ec8284e2b941"
      },
      "execution_count": null,
      "outputs": [
        {
          "output_type": "stream",
          "name": "stderr",
          "text": [
            "<ipython-input-67-8d05621e5ebc>:2: FutureWarning: The default value of regex will change from True to False in a future version. In addition, single character regular expressions will *not* be treated as literal strings when regex=True.\n",
            "  nfl['AAV'] = nfl['AAV'].str.replace('.', '')\n"
          ]
        }
      ]
    },
    {
      "cell_type": "code",
      "source": [
        "mlb['AAV'] = pd.to_numeric(mlb['AAV'].str.replace('$', ''), errors='coerce')\n",
        "nhl['AAV'] = pd.to_numeric(nhl['AAV'].str.replace('$', ''), errors='coerce')\n",
        "nba['AAV'] = pd.to_numeric(nba['AAV'].str.replace('$', ''), errors='coerce')\n",
        "nfl['AAV'] = pd.to_numeric(nfl['AAV'].str.replace('$', ''), errors='coerce')"
      ],
      "metadata": {
        "colab": {
          "base_uri": "https://localhost:8080/"
        },
        "id": "KCEZvYxokXFJ",
        "outputId": "d96f361b-6898-46b0-8128-7cb9151999ca"
      },
      "execution_count": null,
      "outputs": [
        {
          "output_type": "stream",
          "name": "stderr",
          "text": [
            "<ipython-input-68-3f3a97a3b023>:1: FutureWarning: The default value of regex will change from True to False in a future version. In addition, single character regular expressions will *not* be treated as literal strings when regex=True.\n",
            "  mlb['AAV'] = pd.to_numeric(mlb['AAV'].str.replace('$', ''), errors='coerce')\n",
            "<ipython-input-68-3f3a97a3b023>:2: FutureWarning: The default value of regex will change from True to False in a future version. In addition, single character regular expressions will *not* be treated as literal strings when regex=True.\n",
            "  nhl['AAV'] = pd.to_numeric(nhl['AAV'].str.replace('$', ''), errors='coerce')\n",
            "<ipython-input-68-3f3a97a3b023>:3: FutureWarning: The default value of regex will change from True to False in a future version. In addition, single character regular expressions will *not* be treated as literal strings when regex=True.\n",
            "  nba['AAV'] = pd.to_numeric(nba['AAV'].str.replace('$', ''), errors='coerce')\n",
            "<ipython-input-68-3f3a97a3b023>:4: FutureWarning: The default value of regex will change from True to False in a future version. In addition, single character regular expressions will *not* be treated as literal strings when regex=True.\n",
            "  nfl['AAV'] = pd.to_numeric(nfl['AAV'].str.replace('$', ''), errors='coerce')\n"
          ]
        }
      ]
    },
    {
      "cell_type": "code",
      "source": [
        "# nba = nba[nba['AAV'] >= 16700]\n",
        "# # Reset the index of the filtered data\n",
        "# nba.reset_index(drop=True, inplace=True)"
      ],
      "metadata": {
        "id": "HsgiaWqaGmDU"
      },
      "execution_count": null,
      "outputs": []
    },
    {
      "cell_type": "code",
      "source": [
        "mlb"
      ],
      "metadata": {
        "colab": {
          "base_uri": "https://localhost:8080/",
          "height": 424
        },
        "id": "UXg8yAyEgVtu",
        "outputId": "47c6d934-c50d-4ee2-c5b5-99d76d9a88ba"
      },
      "execution_count": null,
      "outputs": [
        {
          "output_type": "execute_result",
          "data": {
            "text/plain": [
              "      Rank            Player  Year Pos Team       AAV  Unnamed: 6\n",
              "0      NaN      Max Scherzer  2023  SP  NYM  43333333         NaN\n",
              "1      NaN  Justin Verlander  2023  SP  NYM  43333333         NaN\n",
              "2      NaN       Aaron Judge  2023  CF  NYY  40000000         NaN\n",
              "3      NaN    Anthony Rendon  2023  3B  LAA  35000000         NaN\n",
              "4      NaN        Mike Trout  2023  CF  LAA  35541667         NaN\n",
              "...    ...               ...   ...  ..  ...       ...         ...\n",
              "1021   NaN     Mickey Moniak  2023  CF  LAA    720000         NaN\n",
              "1022   NaN         Zach Neto  2023  SS  LAA    720000         NaN\n",
              "1023   NaN       Kevin Padlo  2023  3B  LAA    720000         NaN\n",
              "1024   NaN      Jose Soriano  2023  RP  LAA    720000         NaN\n",
              "1025   NaN  Andrew Velazquez  2023  3B  LAA    720000         NaN\n",
              "\n",
              "[1026 rows x 7 columns]"
            ],
            "text/html": [
              "\n",
              "  <div id=\"df-b30d943b-49a1-4922-a265-5f98bea4b596\">\n",
              "    <div class=\"colab-df-container\">\n",
              "      <div>\n",
              "<style scoped>\n",
              "    .dataframe tbody tr th:only-of-type {\n",
              "        vertical-align: middle;\n",
              "    }\n",
              "\n",
              "    .dataframe tbody tr th {\n",
              "        vertical-align: top;\n",
              "    }\n",
              "\n",
              "    .dataframe thead th {\n",
              "        text-align: right;\n",
              "    }\n",
              "</style>\n",
              "<table border=\"1\" class=\"dataframe\">\n",
              "  <thead>\n",
              "    <tr style=\"text-align: right;\">\n",
              "      <th></th>\n",
              "      <th>Rank</th>\n",
              "      <th>Player</th>\n",
              "      <th>Year</th>\n",
              "      <th>Pos</th>\n",
              "      <th>Team</th>\n",
              "      <th>AAV</th>\n",
              "      <th>Unnamed: 6</th>\n",
              "    </tr>\n",
              "  </thead>\n",
              "  <tbody>\n",
              "    <tr>\n",
              "      <th>0</th>\n",
              "      <td>NaN</td>\n",
              "      <td>Max Scherzer</td>\n",
              "      <td>2023</td>\n",
              "      <td>SP</td>\n",
              "      <td>NYM</td>\n",
              "      <td>43333333</td>\n",
              "      <td>NaN</td>\n",
              "    </tr>\n",
              "    <tr>\n",
              "      <th>1</th>\n",
              "      <td>NaN</td>\n",
              "      <td>Justin Verlander</td>\n",
              "      <td>2023</td>\n",
              "      <td>SP</td>\n",
              "      <td>NYM</td>\n",
              "      <td>43333333</td>\n",
              "      <td>NaN</td>\n",
              "    </tr>\n",
              "    <tr>\n",
              "      <th>2</th>\n",
              "      <td>NaN</td>\n",
              "      <td>Aaron Judge</td>\n",
              "      <td>2023</td>\n",
              "      <td>CF</td>\n",
              "      <td>NYY</td>\n",
              "      <td>40000000</td>\n",
              "      <td>NaN</td>\n",
              "    </tr>\n",
              "    <tr>\n",
              "      <th>3</th>\n",
              "      <td>NaN</td>\n",
              "      <td>Anthony Rendon</td>\n",
              "      <td>2023</td>\n",
              "      <td>3B</td>\n",
              "      <td>LAA</td>\n",
              "      <td>35000000</td>\n",
              "      <td>NaN</td>\n",
              "    </tr>\n",
              "    <tr>\n",
              "      <th>4</th>\n",
              "      <td>NaN</td>\n",
              "      <td>Mike Trout</td>\n",
              "      <td>2023</td>\n",
              "      <td>CF</td>\n",
              "      <td>LAA</td>\n",
              "      <td>35541667</td>\n",
              "      <td>NaN</td>\n",
              "    </tr>\n",
              "    <tr>\n",
              "      <th>...</th>\n",
              "      <td>...</td>\n",
              "      <td>...</td>\n",
              "      <td>...</td>\n",
              "      <td>...</td>\n",
              "      <td>...</td>\n",
              "      <td>...</td>\n",
              "      <td>...</td>\n",
              "    </tr>\n",
              "    <tr>\n",
              "      <th>1021</th>\n",
              "      <td>NaN</td>\n",
              "      <td>Mickey Moniak</td>\n",
              "      <td>2023</td>\n",
              "      <td>CF</td>\n",
              "      <td>LAA</td>\n",
              "      <td>720000</td>\n",
              "      <td>NaN</td>\n",
              "    </tr>\n",
              "    <tr>\n",
              "      <th>1022</th>\n",
              "      <td>NaN</td>\n",
              "      <td>Zach Neto</td>\n",
              "      <td>2023</td>\n",
              "      <td>SS</td>\n",
              "      <td>LAA</td>\n",
              "      <td>720000</td>\n",
              "      <td>NaN</td>\n",
              "    </tr>\n",
              "    <tr>\n",
              "      <th>1023</th>\n",
              "      <td>NaN</td>\n",
              "      <td>Kevin Padlo</td>\n",
              "      <td>2023</td>\n",
              "      <td>3B</td>\n",
              "      <td>LAA</td>\n",
              "      <td>720000</td>\n",
              "      <td>NaN</td>\n",
              "    </tr>\n",
              "    <tr>\n",
              "      <th>1024</th>\n",
              "      <td>NaN</td>\n",
              "      <td>Jose Soriano</td>\n",
              "      <td>2023</td>\n",
              "      <td>RP</td>\n",
              "      <td>LAA</td>\n",
              "      <td>720000</td>\n",
              "      <td>NaN</td>\n",
              "    </tr>\n",
              "    <tr>\n",
              "      <th>1025</th>\n",
              "      <td>NaN</td>\n",
              "      <td>Andrew Velazquez</td>\n",
              "      <td>2023</td>\n",
              "      <td>3B</td>\n",
              "      <td>LAA</td>\n",
              "      <td>720000</td>\n",
              "      <td>NaN</td>\n",
              "    </tr>\n",
              "  </tbody>\n",
              "</table>\n",
              "<p>1026 rows × 7 columns</p>\n",
              "</div>\n",
              "      <button class=\"colab-df-convert\" onclick=\"convertToInteractive('df-b30d943b-49a1-4922-a265-5f98bea4b596')\"\n",
              "              title=\"Convert this dataframe to an interactive table.\"\n",
              "              style=\"display:none;\">\n",
              "        \n",
              "  <svg xmlns=\"http://www.w3.org/2000/svg\" height=\"24px\"viewBox=\"0 0 24 24\"\n",
              "       width=\"24px\">\n",
              "    <path d=\"M0 0h24v24H0V0z\" fill=\"none\"/>\n",
              "    <path d=\"M18.56 5.44l.94 2.06.94-2.06 2.06-.94-2.06-.94-.94-2.06-.94 2.06-2.06.94zm-11 1L8.5 8.5l.94-2.06 2.06-.94-2.06-.94L8.5 2.5l-.94 2.06-2.06.94zm10 10l.94 2.06.94-2.06 2.06-.94-2.06-.94-.94-2.06-.94 2.06-2.06.94z\"/><path d=\"M17.41 7.96l-1.37-1.37c-.4-.4-.92-.59-1.43-.59-.52 0-1.04.2-1.43.59L10.3 9.45l-7.72 7.72c-.78.78-.78 2.05 0 2.83L4 21.41c.39.39.9.59 1.41.59.51 0 1.02-.2 1.41-.59l7.78-7.78 2.81-2.81c.8-.78.8-2.07 0-2.86zM5.41 20L4 18.59l7.72-7.72 1.47 1.35L5.41 20z\"/>\n",
              "  </svg>\n",
              "      </button>\n",
              "      \n",
              "  <style>\n",
              "    .colab-df-container {\n",
              "      display:flex;\n",
              "      flex-wrap:wrap;\n",
              "      gap: 12px;\n",
              "    }\n",
              "\n",
              "    .colab-df-convert {\n",
              "      background-color: #E8F0FE;\n",
              "      border: none;\n",
              "      border-radius: 50%;\n",
              "      cursor: pointer;\n",
              "      display: none;\n",
              "      fill: #1967D2;\n",
              "      height: 32px;\n",
              "      padding: 0 0 0 0;\n",
              "      width: 32px;\n",
              "    }\n",
              "\n",
              "    .colab-df-convert:hover {\n",
              "      background-color: #E2EBFA;\n",
              "      box-shadow: 0px 1px 2px rgba(60, 64, 67, 0.3), 0px 1px 3px 1px rgba(60, 64, 67, 0.15);\n",
              "      fill: #174EA6;\n",
              "    }\n",
              "\n",
              "    [theme=dark] .colab-df-convert {\n",
              "      background-color: #3B4455;\n",
              "      fill: #D2E3FC;\n",
              "    }\n",
              "\n",
              "    [theme=dark] .colab-df-convert:hover {\n",
              "      background-color: #434B5C;\n",
              "      box-shadow: 0px 1px 3px 1px rgba(0, 0, 0, 0.15);\n",
              "      filter: drop-shadow(0px 1px 2px rgba(0, 0, 0, 0.3));\n",
              "      fill: #FFFFFF;\n",
              "    }\n",
              "  </style>\n",
              "\n",
              "      <script>\n",
              "        const buttonEl =\n",
              "          document.querySelector('#df-b30d943b-49a1-4922-a265-5f98bea4b596 button.colab-df-convert');\n",
              "        buttonEl.style.display =\n",
              "          google.colab.kernel.accessAllowed ? 'block' : 'none';\n",
              "\n",
              "        async function convertToInteractive(key) {\n",
              "          const element = document.querySelector('#df-b30d943b-49a1-4922-a265-5f98bea4b596');\n",
              "          const dataTable =\n",
              "            await google.colab.kernel.invokeFunction('convertToInteractive',\n",
              "                                                     [key], {});\n",
              "          if (!dataTable) return;\n",
              "\n",
              "          const docLinkHtml = 'Like what you see? Visit the ' +\n",
              "            '<a target=\"_blank\" href=https://colab.research.google.com/notebooks/data_table.ipynb>data table notebook</a>'\n",
              "            + ' to learn more about interactive tables.';\n",
              "          element.innerHTML = '';\n",
              "          dataTable['output_type'] = 'display_data';\n",
              "          await google.colab.output.renderOutput(dataTable, element);\n",
              "          const docLink = document.createElement('div');\n",
              "          docLink.innerHTML = docLinkHtml;\n",
              "          element.appendChild(docLink);\n",
              "        }\n",
              "      </script>\n",
              "    </div>\n",
              "  </div>\n",
              "  "
            ]
          },
          "metadata": {},
          "execution_count": 70
        }
      ]
    },
    {
      "cell_type": "code",
      "source": [
        "nhl"
      ],
      "metadata": {
        "colab": {
          "base_uri": "https://localhost:8080/",
          "height": 424
        },
        "id": "bJA-UfPpmKB7",
        "outputId": "e376af28-aa3a-4043-96b1-b0f74b63fb2d"
      },
      "execution_count": null,
      "outputs": [
        {
          "output_type": "execute_result",
          "data": {
            "text/plain": [
              "     Rank            Player  Year Pos Team       AAV  Unnamed: 6\n",
              "0     NaN  Nathan MacKinnon  2023   C  COL  12600000         NaN\n",
              "1     NaN    Connor McDavid  2023   C  EDM  12500000         NaN\n",
              "2     NaN    Artemi Panarin  2023  LW  NYR  11642857         NaN\n",
              "3     NaN   Auston Matthews  2023   C  TOR  11640250         NaN\n",
              "4     NaN     Erik Karlsson  2023   D  SJS  11500000         NaN\n",
              "..    ...               ...   ...  ..  ...       ...         ...\n",
              "551   NaN    Michael Amadio  2023   C  VGK    762500         NaN\n",
              "552   NaN   Jacob MacDonald  2023   D  SJS    762500         NaN\n",
              "553   NaN        A.J. Greer  2023  LW  BOS    762500         NaN\n",
              "554   NaN    Boris Katchouk  2023  LW  CHI    758333         NaN\n",
              "555   NaN    Taylor Raddysh  2023  RW  CHI    758333         NaN\n",
              "\n",
              "[556 rows x 7 columns]"
            ],
            "text/html": [
              "\n",
              "  <div id=\"df-665176ab-1840-4290-af05-eb7648c6cc11\">\n",
              "    <div class=\"colab-df-container\">\n",
              "      <div>\n",
              "<style scoped>\n",
              "    .dataframe tbody tr th:only-of-type {\n",
              "        vertical-align: middle;\n",
              "    }\n",
              "\n",
              "    .dataframe tbody tr th {\n",
              "        vertical-align: top;\n",
              "    }\n",
              "\n",
              "    .dataframe thead th {\n",
              "        text-align: right;\n",
              "    }\n",
              "</style>\n",
              "<table border=\"1\" class=\"dataframe\">\n",
              "  <thead>\n",
              "    <tr style=\"text-align: right;\">\n",
              "      <th></th>\n",
              "      <th>Rank</th>\n",
              "      <th>Player</th>\n",
              "      <th>Year</th>\n",
              "      <th>Pos</th>\n",
              "      <th>Team</th>\n",
              "      <th>AAV</th>\n",
              "      <th>Unnamed: 6</th>\n",
              "    </tr>\n",
              "  </thead>\n",
              "  <tbody>\n",
              "    <tr>\n",
              "      <th>0</th>\n",
              "      <td>NaN</td>\n",
              "      <td>Nathan MacKinnon</td>\n",
              "      <td>2023</td>\n",
              "      <td>C</td>\n",
              "      <td>COL</td>\n",
              "      <td>12600000</td>\n",
              "      <td>NaN</td>\n",
              "    </tr>\n",
              "    <tr>\n",
              "      <th>1</th>\n",
              "      <td>NaN</td>\n",
              "      <td>Connor McDavid</td>\n",
              "      <td>2023</td>\n",
              "      <td>C</td>\n",
              "      <td>EDM</td>\n",
              "      <td>12500000</td>\n",
              "      <td>NaN</td>\n",
              "    </tr>\n",
              "    <tr>\n",
              "      <th>2</th>\n",
              "      <td>NaN</td>\n",
              "      <td>Artemi Panarin</td>\n",
              "      <td>2023</td>\n",
              "      <td>LW</td>\n",
              "      <td>NYR</td>\n",
              "      <td>11642857</td>\n",
              "      <td>NaN</td>\n",
              "    </tr>\n",
              "    <tr>\n",
              "      <th>3</th>\n",
              "      <td>NaN</td>\n",
              "      <td>Auston Matthews</td>\n",
              "      <td>2023</td>\n",
              "      <td>C</td>\n",
              "      <td>TOR</td>\n",
              "      <td>11640250</td>\n",
              "      <td>NaN</td>\n",
              "    </tr>\n",
              "    <tr>\n",
              "      <th>4</th>\n",
              "      <td>NaN</td>\n",
              "      <td>Erik Karlsson</td>\n",
              "      <td>2023</td>\n",
              "      <td>D</td>\n",
              "      <td>SJS</td>\n",
              "      <td>11500000</td>\n",
              "      <td>NaN</td>\n",
              "    </tr>\n",
              "    <tr>\n",
              "      <th>...</th>\n",
              "      <td>...</td>\n",
              "      <td>...</td>\n",
              "      <td>...</td>\n",
              "      <td>...</td>\n",
              "      <td>...</td>\n",
              "      <td>...</td>\n",
              "      <td>...</td>\n",
              "    </tr>\n",
              "    <tr>\n",
              "      <th>551</th>\n",
              "      <td>NaN</td>\n",
              "      <td>Michael Amadio</td>\n",
              "      <td>2023</td>\n",
              "      <td>C</td>\n",
              "      <td>VGK</td>\n",
              "      <td>762500</td>\n",
              "      <td>NaN</td>\n",
              "    </tr>\n",
              "    <tr>\n",
              "      <th>552</th>\n",
              "      <td>NaN</td>\n",
              "      <td>Jacob MacDonald</td>\n",
              "      <td>2023</td>\n",
              "      <td>D</td>\n",
              "      <td>SJS</td>\n",
              "      <td>762500</td>\n",
              "      <td>NaN</td>\n",
              "    </tr>\n",
              "    <tr>\n",
              "      <th>553</th>\n",
              "      <td>NaN</td>\n",
              "      <td>A.J. Greer</td>\n",
              "      <td>2023</td>\n",
              "      <td>LW</td>\n",
              "      <td>BOS</td>\n",
              "      <td>762500</td>\n",
              "      <td>NaN</td>\n",
              "    </tr>\n",
              "    <tr>\n",
              "      <th>554</th>\n",
              "      <td>NaN</td>\n",
              "      <td>Boris Katchouk</td>\n",
              "      <td>2023</td>\n",
              "      <td>LW</td>\n",
              "      <td>CHI</td>\n",
              "      <td>758333</td>\n",
              "      <td>NaN</td>\n",
              "    </tr>\n",
              "    <tr>\n",
              "      <th>555</th>\n",
              "      <td>NaN</td>\n",
              "      <td>Taylor Raddysh</td>\n",
              "      <td>2023</td>\n",
              "      <td>RW</td>\n",
              "      <td>CHI</td>\n",
              "      <td>758333</td>\n",
              "      <td>NaN</td>\n",
              "    </tr>\n",
              "  </tbody>\n",
              "</table>\n",
              "<p>556 rows × 7 columns</p>\n",
              "</div>\n",
              "      <button class=\"colab-df-convert\" onclick=\"convertToInteractive('df-665176ab-1840-4290-af05-eb7648c6cc11')\"\n",
              "              title=\"Convert this dataframe to an interactive table.\"\n",
              "              style=\"display:none;\">\n",
              "        \n",
              "  <svg xmlns=\"http://www.w3.org/2000/svg\" height=\"24px\"viewBox=\"0 0 24 24\"\n",
              "       width=\"24px\">\n",
              "    <path d=\"M0 0h24v24H0V0z\" fill=\"none\"/>\n",
              "    <path d=\"M18.56 5.44l.94 2.06.94-2.06 2.06-.94-2.06-.94-.94-2.06-.94 2.06-2.06.94zm-11 1L8.5 8.5l.94-2.06 2.06-.94-2.06-.94L8.5 2.5l-.94 2.06-2.06.94zm10 10l.94 2.06.94-2.06 2.06-.94-2.06-.94-.94-2.06-.94 2.06-2.06.94z\"/><path d=\"M17.41 7.96l-1.37-1.37c-.4-.4-.92-.59-1.43-.59-.52 0-1.04.2-1.43.59L10.3 9.45l-7.72 7.72c-.78.78-.78 2.05 0 2.83L4 21.41c.39.39.9.59 1.41.59.51 0 1.02-.2 1.41-.59l7.78-7.78 2.81-2.81c.8-.78.8-2.07 0-2.86zM5.41 20L4 18.59l7.72-7.72 1.47 1.35L5.41 20z\"/>\n",
              "  </svg>\n",
              "      </button>\n",
              "      \n",
              "  <style>\n",
              "    .colab-df-container {\n",
              "      display:flex;\n",
              "      flex-wrap:wrap;\n",
              "      gap: 12px;\n",
              "    }\n",
              "\n",
              "    .colab-df-convert {\n",
              "      background-color: #E8F0FE;\n",
              "      border: none;\n",
              "      border-radius: 50%;\n",
              "      cursor: pointer;\n",
              "      display: none;\n",
              "      fill: #1967D2;\n",
              "      height: 32px;\n",
              "      padding: 0 0 0 0;\n",
              "      width: 32px;\n",
              "    }\n",
              "\n",
              "    .colab-df-convert:hover {\n",
              "      background-color: #E2EBFA;\n",
              "      box-shadow: 0px 1px 2px rgba(60, 64, 67, 0.3), 0px 1px 3px 1px rgba(60, 64, 67, 0.15);\n",
              "      fill: #174EA6;\n",
              "    }\n",
              "\n",
              "    [theme=dark] .colab-df-convert {\n",
              "      background-color: #3B4455;\n",
              "      fill: #D2E3FC;\n",
              "    }\n",
              "\n",
              "    [theme=dark] .colab-df-convert:hover {\n",
              "      background-color: #434B5C;\n",
              "      box-shadow: 0px 1px 3px 1px rgba(0, 0, 0, 0.15);\n",
              "      filter: drop-shadow(0px 1px 2px rgba(0, 0, 0, 0.3));\n",
              "      fill: #FFFFFF;\n",
              "    }\n",
              "  </style>\n",
              "\n",
              "      <script>\n",
              "        const buttonEl =\n",
              "          document.querySelector('#df-665176ab-1840-4290-af05-eb7648c6cc11 button.colab-df-convert');\n",
              "        buttonEl.style.display =\n",
              "          google.colab.kernel.accessAllowed ? 'block' : 'none';\n",
              "\n",
              "        async function convertToInteractive(key) {\n",
              "          const element = document.querySelector('#df-665176ab-1840-4290-af05-eb7648c6cc11');\n",
              "          const dataTable =\n",
              "            await google.colab.kernel.invokeFunction('convertToInteractive',\n",
              "                                                     [key], {});\n",
              "          if (!dataTable) return;\n",
              "\n",
              "          const docLinkHtml = 'Like what you see? Visit the ' +\n",
              "            '<a target=\"_blank\" href=https://colab.research.google.com/notebooks/data_table.ipynb>data table notebook</a>'\n",
              "            + ' to learn more about interactive tables.';\n",
              "          element.innerHTML = '';\n",
              "          dataTable['output_type'] = 'display_data';\n",
              "          await google.colab.output.renderOutput(dataTable, element);\n",
              "          const docLink = document.createElement('div');\n",
              "          docLink.innerHTML = docLinkHtml;\n",
              "          element.appendChild(docLink);\n",
              "        }\n",
              "      </script>\n",
              "    </div>\n",
              "  </div>\n",
              "  "
            ]
          },
          "metadata": {},
          "execution_count": 71
        }
      ]
    },
    {
      "cell_type": "code",
      "source": [
        "nba"
      ],
      "metadata": {
        "colab": {
          "base_uri": "https://localhost:8080/",
          "height": 424
        },
        "id": "tT6L2_0yg6Vj",
        "outputId": "f69a3d92-c7d5-4473-fa99-da93e57b8625"
      },
      "execution_count": null,
      "outputs": [
        {
          "output_type": "execute_result",
          "data": {
            "text/plain": [
              "     Rank              Player  Year Pos Team       AAV  Unnamed: 6\n",
              "0     NaN       Stephen Curry  2023  PG  GSW  53838416         NaN\n",
              "1     NaN        Kevin Durant  2023  SF  PHX  48554830         NaN\n",
              "2     NaN        Nikola Jokic  2023   C  DEN  55216000         NaN\n",
              "3     NaN        LeBron James  2023  PF  LAL  49504000         NaN\n",
              "4     NaN         Joel Embiid  2023   C  PHI  53312000         NaN\n",
              "..    ...                 ...   ...  ..  ...       ...         ...\n",
              "322   NaN  Jeenathan Williams  2023  SG  POR    886254         NaN\n",
              "323   NaN        Max Christie  2023  SG  LAL   1368823         NaN\n",
              "324   NaN  Kenneth Lofton Jr.  2023  PF  MEM   1731754         NaN\n",
              "325   NaN      Bryce McGowens  2023  SG  CHA   1750504         NaN\n",
              "326   NaN    Christian Koloko  2023   C  TOR   1746521         NaN\n",
              "\n",
              "[327 rows x 7 columns]"
            ],
            "text/html": [
              "\n",
              "  <div id=\"df-acd591db-0d67-49ad-849a-0002a5281fc1\">\n",
              "    <div class=\"colab-df-container\">\n",
              "      <div>\n",
              "<style scoped>\n",
              "    .dataframe tbody tr th:only-of-type {\n",
              "        vertical-align: middle;\n",
              "    }\n",
              "\n",
              "    .dataframe tbody tr th {\n",
              "        vertical-align: top;\n",
              "    }\n",
              "\n",
              "    .dataframe thead th {\n",
              "        text-align: right;\n",
              "    }\n",
              "</style>\n",
              "<table border=\"1\" class=\"dataframe\">\n",
              "  <thead>\n",
              "    <tr style=\"text-align: right;\">\n",
              "      <th></th>\n",
              "      <th>Rank</th>\n",
              "      <th>Player</th>\n",
              "      <th>Year</th>\n",
              "      <th>Pos</th>\n",
              "      <th>Team</th>\n",
              "      <th>AAV</th>\n",
              "      <th>Unnamed: 6</th>\n",
              "    </tr>\n",
              "  </thead>\n",
              "  <tbody>\n",
              "    <tr>\n",
              "      <th>0</th>\n",
              "      <td>NaN</td>\n",
              "      <td>Stephen Curry</td>\n",
              "      <td>2023</td>\n",
              "      <td>PG</td>\n",
              "      <td>GSW</td>\n",
              "      <td>53838416</td>\n",
              "      <td>NaN</td>\n",
              "    </tr>\n",
              "    <tr>\n",
              "      <th>1</th>\n",
              "      <td>NaN</td>\n",
              "      <td>Kevin Durant</td>\n",
              "      <td>2023</td>\n",
              "      <td>SF</td>\n",
              "      <td>PHX</td>\n",
              "      <td>48554830</td>\n",
              "      <td>NaN</td>\n",
              "    </tr>\n",
              "    <tr>\n",
              "      <th>2</th>\n",
              "      <td>NaN</td>\n",
              "      <td>Nikola Jokic</td>\n",
              "      <td>2023</td>\n",
              "      <td>C</td>\n",
              "      <td>DEN</td>\n",
              "      <td>55216000</td>\n",
              "      <td>NaN</td>\n",
              "    </tr>\n",
              "    <tr>\n",
              "      <th>3</th>\n",
              "      <td>NaN</td>\n",
              "      <td>LeBron James</td>\n",
              "      <td>2023</td>\n",
              "      <td>PF</td>\n",
              "      <td>LAL</td>\n",
              "      <td>49504000</td>\n",
              "      <td>NaN</td>\n",
              "    </tr>\n",
              "    <tr>\n",
              "      <th>4</th>\n",
              "      <td>NaN</td>\n",
              "      <td>Joel Embiid</td>\n",
              "      <td>2023</td>\n",
              "      <td>C</td>\n",
              "      <td>PHI</td>\n",
              "      <td>53312000</td>\n",
              "      <td>NaN</td>\n",
              "    </tr>\n",
              "    <tr>\n",
              "      <th>...</th>\n",
              "      <td>...</td>\n",
              "      <td>...</td>\n",
              "      <td>...</td>\n",
              "      <td>...</td>\n",
              "      <td>...</td>\n",
              "      <td>...</td>\n",
              "      <td>...</td>\n",
              "    </tr>\n",
              "    <tr>\n",
              "      <th>322</th>\n",
              "      <td>NaN</td>\n",
              "      <td>Jeenathan Williams</td>\n",
              "      <td>2023</td>\n",
              "      <td>SG</td>\n",
              "      <td>POR</td>\n",
              "      <td>886254</td>\n",
              "      <td>NaN</td>\n",
              "    </tr>\n",
              "    <tr>\n",
              "      <th>323</th>\n",
              "      <td>NaN</td>\n",
              "      <td>Max Christie</td>\n",
              "      <td>2023</td>\n",
              "      <td>SG</td>\n",
              "      <td>LAL</td>\n",
              "      <td>1368823</td>\n",
              "      <td>NaN</td>\n",
              "    </tr>\n",
              "    <tr>\n",
              "      <th>324</th>\n",
              "      <td>NaN</td>\n",
              "      <td>Kenneth Lofton Jr.</td>\n",
              "      <td>2023</td>\n",
              "      <td>PF</td>\n",
              "      <td>MEM</td>\n",
              "      <td>1731754</td>\n",
              "      <td>NaN</td>\n",
              "    </tr>\n",
              "    <tr>\n",
              "      <th>325</th>\n",
              "      <td>NaN</td>\n",
              "      <td>Bryce McGowens</td>\n",
              "      <td>2023</td>\n",
              "      <td>SG</td>\n",
              "      <td>CHA</td>\n",
              "      <td>1750504</td>\n",
              "      <td>NaN</td>\n",
              "    </tr>\n",
              "    <tr>\n",
              "      <th>326</th>\n",
              "      <td>NaN</td>\n",
              "      <td>Christian Koloko</td>\n",
              "      <td>2023</td>\n",
              "      <td>C</td>\n",
              "      <td>TOR</td>\n",
              "      <td>1746521</td>\n",
              "      <td>NaN</td>\n",
              "    </tr>\n",
              "  </tbody>\n",
              "</table>\n",
              "<p>327 rows × 7 columns</p>\n",
              "</div>\n",
              "      <button class=\"colab-df-convert\" onclick=\"convertToInteractive('df-acd591db-0d67-49ad-849a-0002a5281fc1')\"\n",
              "              title=\"Convert this dataframe to an interactive table.\"\n",
              "              style=\"display:none;\">\n",
              "        \n",
              "  <svg xmlns=\"http://www.w3.org/2000/svg\" height=\"24px\"viewBox=\"0 0 24 24\"\n",
              "       width=\"24px\">\n",
              "    <path d=\"M0 0h24v24H0V0z\" fill=\"none\"/>\n",
              "    <path d=\"M18.56 5.44l.94 2.06.94-2.06 2.06-.94-2.06-.94-.94-2.06-.94 2.06-2.06.94zm-11 1L8.5 8.5l.94-2.06 2.06-.94-2.06-.94L8.5 2.5l-.94 2.06-2.06.94zm10 10l.94 2.06.94-2.06 2.06-.94-2.06-.94-.94-2.06-.94 2.06-2.06.94z\"/><path d=\"M17.41 7.96l-1.37-1.37c-.4-.4-.92-.59-1.43-.59-.52 0-1.04.2-1.43.59L10.3 9.45l-7.72 7.72c-.78.78-.78 2.05 0 2.83L4 21.41c.39.39.9.59 1.41.59.51 0 1.02-.2 1.41-.59l7.78-7.78 2.81-2.81c.8-.78.8-2.07 0-2.86zM5.41 20L4 18.59l7.72-7.72 1.47 1.35L5.41 20z\"/>\n",
              "  </svg>\n",
              "      </button>\n",
              "      \n",
              "  <style>\n",
              "    .colab-df-container {\n",
              "      display:flex;\n",
              "      flex-wrap:wrap;\n",
              "      gap: 12px;\n",
              "    }\n",
              "\n",
              "    .colab-df-convert {\n",
              "      background-color: #E8F0FE;\n",
              "      border: none;\n",
              "      border-radius: 50%;\n",
              "      cursor: pointer;\n",
              "      display: none;\n",
              "      fill: #1967D2;\n",
              "      height: 32px;\n",
              "      padding: 0 0 0 0;\n",
              "      width: 32px;\n",
              "    }\n",
              "\n",
              "    .colab-df-convert:hover {\n",
              "      background-color: #E2EBFA;\n",
              "      box-shadow: 0px 1px 2px rgba(60, 64, 67, 0.3), 0px 1px 3px 1px rgba(60, 64, 67, 0.15);\n",
              "      fill: #174EA6;\n",
              "    }\n",
              "\n",
              "    [theme=dark] .colab-df-convert {\n",
              "      background-color: #3B4455;\n",
              "      fill: #D2E3FC;\n",
              "    }\n",
              "\n",
              "    [theme=dark] .colab-df-convert:hover {\n",
              "      background-color: #434B5C;\n",
              "      box-shadow: 0px 1px 3px 1px rgba(0, 0, 0, 0.15);\n",
              "      filter: drop-shadow(0px 1px 2px rgba(0, 0, 0, 0.3));\n",
              "      fill: #FFFFFF;\n",
              "    }\n",
              "  </style>\n",
              "\n",
              "      <script>\n",
              "        const buttonEl =\n",
              "          document.querySelector('#df-acd591db-0d67-49ad-849a-0002a5281fc1 button.colab-df-convert');\n",
              "        buttonEl.style.display =\n",
              "          google.colab.kernel.accessAllowed ? 'block' : 'none';\n",
              "\n",
              "        async function convertToInteractive(key) {\n",
              "          const element = document.querySelector('#df-acd591db-0d67-49ad-849a-0002a5281fc1');\n",
              "          const dataTable =\n",
              "            await google.colab.kernel.invokeFunction('convertToInteractive',\n",
              "                                                     [key], {});\n",
              "          if (!dataTable) return;\n",
              "\n",
              "          const docLinkHtml = 'Like what you see? Visit the ' +\n",
              "            '<a target=\"_blank\" href=https://colab.research.google.com/notebooks/data_table.ipynb>data table notebook</a>'\n",
              "            + ' to learn more about interactive tables.';\n",
              "          element.innerHTML = '';\n",
              "          dataTable['output_type'] = 'display_data';\n",
              "          await google.colab.output.renderOutput(dataTable, element);\n",
              "          const docLink = document.createElement('div');\n",
              "          docLink.innerHTML = docLinkHtml;\n",
              "          element.appendChild(docLink);\n",
              "        }\n",
              "      </script>\n",
              "    </div>\n",
              "  </div>\n",
              "  "
            ]
          },
          "metadata": {},
          "execution_count": 72
        }
      ]
    },
    {
      "cell_type": "code",
      "source": [
        "nfl"
      ],
      "metadata": {
        "colab": {
          "base_uri": "https://localhost:8080/",
          "height": 424
        },
        "id": "lyONlcuXg7xm",
        "outputId": "1c983625-847d-4e98-f5ac-945682caae66"
      },
      "execution_count": null,
      "outputs": [
        {
          "output_type": "execute_result",
          "data": {
            "text/plain": [
              "      Rank            Player  Year  Pos Team       AAV  Unnamed: 6\n",
              "0      NaN   Patrick Mahomes  2023   QB   KC  45000000         NaN\n",
              "1      NaN    Ryan Tannehill  2023   QB  TEN  29500000         NaN\n",
              "2      NaN  Leonard Williams  2023   DE  NYG  21000000         NaN\n",
              "3      NaN        Jared Goff  2023   QB  DET  33500000         NaN\n",
              "4      NaN         T.J. Watt  2023  OLB  PIT  28002750         NaN\n",
              "...    ...               ...   ...  ...  ...       ...         ...\n",
              "2848   NaN      Bradlee Anae  2023   DE  NYJ    905000         NaN\n",
              "2849   NaN     Zach Davidson  2023   TE  BUF         0         NaN\n",
              "2850   NaN      Andre Miller  2023   TE  NYG    750000         NaN\n",
              "2851   NaN      Jaylon Moore  2023   WR  JAC    750000         NaN\n",
              "2852   NaN       B.J. Baylor  2023   RB  ATL    750000         NaN\n",
              "\n",
              "[2853 rows x 7 columns]"
            ],
            "text/html": [
              "\n",
              "  <div id=\"df-c8880535-1b80-4d26-b4b0-0e590e1d5f8c\">\n",
              "    <div class=\"colab-df-container\">\n",
              "      <div>\n",
              "<style scoped>\n",
              "    .dataframe tbody tr th:only-of-type {\n",
              "        vertical-align: middle;\n",
              "    }\n",
              "\n",
              "    .dataframe tbody tr th {\n",
              "        vertical-align: top;\n",
              "    }\n",
              "\n",
              "    .dataframe thead th {\n",
              "        text-align: right;\n",
              "    }\n",
              "</style>\n",
              "<table border=\"1\" class=\"dataframe\">\n",
              "  <thead>\n",
              "    <tr style=\"text-align: right;\">\n",
              "      <th></th>\n",
              "      <th>Rank</th>\n",
              "      <th>Player</th>\n",
              "      <th>Year</th>\n",
              "      <th>Pos</th>\n",
              "      <th>Team</th>\n",
              "      <th>AAV</th>\n",
              "      <th>Unnamed: 6</th>\n",
              "    </tr>\n",
              "  </thead>\n",
              "  <tbody>\n",
              "    <tr>\n",
              "      <th>0</th>\n",
              "      <td>NaN</td>\n",
              "      <td>Patrick Mahomes</td>\n",
              "      <td>2023</td>\n",
              "      <td>QB</td>\n",
              "      <td>KC</td>\n",
              "      <td>45000000</td>\n",
              "      <td>NaN</td>\n",
              "    </tr>\n",
              "    <tr>\n",
              "      <th>1</th>\n",
              "      <td>NaN</td>\n",
              "      <td>Ryan Tannehill</td>\n",
              "      <td>2023</td>\n",
              "      <td>QB</td>\n",
              "      <td>TEN</td>\n",
              "      <td>29500000</td>\n",
              "      <td>NaN</td>\n",
              "    </tr>\n",
              "    <tr>\n",
              "      <th>2</th>\n",
              "      <td>NaN</td>\n",
              "      <td>Leonard Williams</td>\n",
              "      <td>2023</td>\n",
              "      <td>DE</td>\n",
              "      <td>NYG</td>\n",
              "      <td>21000000</td>\n",
              "      <td>NaN</td>\n",
              "    </tr>\n",
              "    <tr>\n",
              "      <th>3</th>\n",
              "      <td>NaN</td>\n",
              "      <td>Jared Goff</td>\n",
              "      <td>2023</td>\n",
              "      <td>QB</td>\n",
              "      <td>DET</td>\n",
              "      <td>33500000</td>\n",
              "      <td>NaN</td>\n",
              "    </tr>\n",
              "    <tr>\n",
              "      <th>4</th>\n",
              "      <td>NaN</td>\n",
              "      <td>T.J. Watt</td>\n",
              "      <td>2023</td>\n",
              "      <td>OLB</td>\n",
              "      <td>PIT</td>\n",
              "      <td>28002750</td>\n",
              "      <td>NaN</td>\n",
              "    </tr>\n",
              "    <tr>\n",
              "      <th>...</th>\n",
              "      <td>...</td>\n",
              "      <td>...</td>\n",
              "      <td>...</td>\n",
              "      <td>...</td>\n",
              "      <td>...</td>\n",
              "      <td>...</td>\n",
              "      <td>...</td>\n",
              "    </tr>\n",
              "    <tr>\n",
              "      <th>2848</th>\n",
              "      <td>NaN</td>\n",
              "      <td>Bradlee Anae</td>\n",
              "      <td>2023</td>\n",
              "      <td>DE</td>\n",
              "      <td>NYJ</td>\n",
              "      <td>905000</td>\n",
              "      <td>NaN</td>\n",
              "    </tr>\n",
              "    <tr>\n",
              "      <th>2849</th>\n",
              "      <td>NaN</td>\n",
              "      <td>Zach Davidson</td>\n",
              "      <td>2023</td>\n",
              "      <td>TE</td>\n",
              "      <td>BUF</td>\n",
              "      <td>0</td>\n",
              "      <td>NaN</td>\n",
              "    </tr>\n",
              "    <tr>\n",
              "      <th>2850</th>\n",
              "      <td>NaN</td>\n",
              "      <td>Andre Miller</td>\n",
              "      <td>2023</td>\n",
              "      <td>TE</td>\n",
              "      <td>NYG</td>\n",
              "      <td>750000</td>\n",
              "      <td>NaN</td>\n",
              "    </tr>\n",
              "    <tr>\n",
              "      <th>2851</th>\n",
              "      <td>NaN</td>\n",
              "      <td>Jaylon Moore</td>\n",
              "      <td>2023</td>\n",
              "      <td>WR</td>\n",
              "      <td>JAC</td>\n",
              "      <td>750000</td>\n",
              "      <td>NaN</td>\n",
              "    </tr>\n",
              "    <tr>\n",
              "      <th>2852</th>\n",
              "      <td>NaN</td>\n",
              "      <td>B.J. Baylor</td>\n",
              "      <td>2023</td>\n",
              "      <td>RB</td>\n",
              "      <td>ATL</td>\n",
              "      <td>750000</td>\n",
              "      <td>NaN</td>\n",
              "    </tr>\n",
              "  </tbody>\n",
              "</table>\n",
              "<p>2853 rows × 7 columns</p>\n",
              "</div>\n",
              "      <button class=\"colab-df-convert\" onclick=\"convertToInteractive('df-c8880535-1b80-4d26-b4b0-0e590e1d5f8c')\"\n",
              "              title=\"Convert this dataframe to an interactive table.\"\n",
              "              style=\"display:none;\">\n",
              "        \n",
              "  <svg xmlns=\"http://www.w3.org/2000/svg\" height=\"24px\"viewBox=\"0 0 24 24\"\n",
              "       width=\"24px\">\n",
              "    <path d=\"M0 0h24v24H0V0z\" fill=\"none\"/>\n",
              "    <path d=\"M18.56 5.44l.94 2.06.94-2.06 2.06-.94-2.06-.94-.94-2.06-.94 2.06-2.06.94zm-11 1L8.5 8.5l.94-2.06 2.06-.94-2.06-.94L8.5 2.5l-.94 2.06-2.06.94zm10 10l.94 2.06.94-2.06 2.06-.94-2.06-.94-.94-2.06-.94 2.06-2.06.94z\"/><path d=\"M17.41 7.96l-1.37-1.37c-.4-.4-.92-.59-1.43-.59-.52 0-1.04.2-1.43.59L10.3 9.45l-7.72 7.72c-.78.78-.78 2.05 0 2.83L4 21.41c.39.39.9.59 1.41.59.51 0 1.02-.2 1.41-.59l7.78-7.78 2.81-2.81c.8-.78.8-2.07 0-2.86zM5.41 20L4 18.59l7.72-7.72 1.47 1.35L5.41 20z\"/>\n",
              "  </svg>\n",
              "      </button>\n",
              "      \n",
              "  <style>\n",
              "    .colab-df-container {\n",
              "      display:flex;\n",
              "      flex-wrap:wrap;\n",
              "      gap: 12px;\n",
              "    }\n",
              "\n",
              "    .colab-df-convert {\n",
              "      background-color: #E8F0FE;\n",
              "      border: none;\n",
              "      border-radius: 50%;\n",
              "      cursor: pointer;\n",
              "      display: none;\n",
              "      fill: #1967D2;\n",
              "      height: 32px;\n",
              "      padding: 0 0 0 0;\n",
              "      width: 32px;\n",
              "    }\n",
              "\n",
              "    .colab-df-convert:hover {\n",
              "      background-color: #E2EBFA;\n",
              "      box-shadow: 0px 1px 2px rgba(60, 64, 67, 0.3), 0px 1px 3px 1px rgba(60, 64, 67, 0.15);\n",
              "      fill: #174EA6;\n",
              "    }\n",
              "\n",
              "    [theme=dark] .colab-df-convert {\n",
              "      background-color: #3B4455;\n",
              "      fill: #D2E3FC;\n",
              "    }\n",
              "\n",
              "    [theme=dark] .colab-df-convert:hover {\n",
              "      background-color: #434B5C;\n",
              "      box-shadow: 0px 1px 3px 1px rgba(0, 0, 0, 0.15);\n",
              "      filter: drop-shadow(0px 1px 2px rgba(0, 0, 0, 0.3));\n",
              "      fill: #FFFFFF;\n",
              "    }\n",
              "  </style>\n",
              "\n",
              "      <script>\n",
              "        const buttonEl =\n",
              "          document.querySelector('#df-c8880535-1b80-4d26-b4b0-0e590e1d5f8c button.colab-df-convert');\n",
              "        buttonEl.style.display =\n",
              "          google.colab.kernel.accessAllowed ? 'block' : 'none';\n",
              "\n",
              "        async function convertToInteractive(key) {\n",
              "          const element = document.querySelector('#df-c8880535-1b80-4d26-b4b0-0e590e1d5f8c');\n",
              "          const dataTable =\n",
              "            await google.colab.kernel.invokeFunction('convertToInteractive',\n",
              "                                                     [key], {});\n",
              "          if (!dataTable) return;\n",
              "\n",
              "          const docLinkHtml = 'Like what you see? Visit the ' +\n",
              "            '<a target=\"_blank\" href=https://colab.research.google.com/notebooks/data_table.ipynb>data table notebook</a>'\n",
              "            + ' to learn more about interactive tables.';\n",
              "          element.innerHTML = '';\n",
              "          dataTable['output_type'] = 'display_data';\n",
              "          await google.colab.output.renderOutput(dataTable, element);\n",
              "          const docLink = document.createElement('div');\n",
              "          docLink.innerHTML = docLinkHtml;\n",
              "          element.appendChild(docLink);\n",
              "        }\n",
              "      </script>\n",
              "    </div>\n",
              "  </div>\n",
              "  "
            ]
          },
          "metadata": {},
          "execution_count": 73
        }
      ]
    },
    {
      "cell_type": "code",
      "source": [
        "# mlb['Average Income'] = np.log(mlb['Average Income'])\n",
        "# mls['Average Income'] = np.log(mls['Average Income'])\n",
        "# nba['Average Income'] = np.log(nba['Average Income'])\n",
        "# nfl['Average Income'] = np.log(nfl['Average Income'])"
      ],
      "metadata": {
        "id": "c4d4Z6SSlsoP"
      },
      "execution_count": null,
      "outputs": []
    },
    {
      "cell_type": "code",
      "source": [
        "mlb_average = mlb['AAV'].mean()\n",
        "nhl_average = nhl['AAV'].mean()\n",
        "nba_average = nba['AAV'].mean()\n",
        "nfl_average = nfl['AAV'].mean()\n",
        "\n",
        "print(mlb_average)\n",
        "print(nhl_average)\n",
        "print(nba_average)\n",
        "print(nfl_average)"
      ],
      "metadata": {
        "colab": {
          "base_uri": "https://localhost:8080/"
        },
        "id": "9GUb8nVddAco",
        "outputId": "01ed91a5-2112-4285-e87f-ecd67bfc1c02"
      },
      "execution_count": null,
      "outputs": [
        {
          "output_type": "stream",
          "name": "stdout",
          "text": [
            "4715898.301169591\n",
            "4014713.2679856117\n",
            "11912965.905198777\n",
            "2879507.0599369085\n"
          ]
        }
      ]
    },
    {
      "cell_type": "code",
      "source": [
        "mlb_median = mlb['AAV'].median()\n",
        "nhl_median = nhl['AAV'].median()\n",
        "nba_median = nba['AAV'].median()\n",
        "nfl_median = nfl['AAV'].median()\n",
        "\n",
        "print(mlb_median)\n",
        "print(nhl_median)\n",
        "print(nba_median)\n",
        "print(nfl_median)"
      ],
      "metadata": {
        "id": "BoaktAsOdiGr",
        "colab": {
          "base_uri": "https://localhost:8080/"
        },
        "outputId": "6097d436-4c6e-402f-9709-421c840f9629"
      },
      "execution_count": null,
      "outputs": [
        {
          "output_type": "stream",
          "name": "stdout",
          "text": [
            "987500.0\n",
            "3537500.0\n",
            "6876811.0\n",
            "1039114.0\n"
          ]
        }
      ]
    },
    {
      "cell_type": "code",
      "source": [],
      "metadata": {
        "id": "8HnWfu7dqOQB"
      },
      "execution_count": null,
      "outputs": []
    },
    {
      "cell_type": "code",
      "source": [
        "import numpy as np\n",
        "import matplotlib.pyplot as plt\n",
        "\n",
        "# Create the bar graph\n",
        "groups = ['NBA','NFL','MLB','NHL']\n",
        "mean_values = [nba_average, nfl_average, mlb_average, nhl_average]\n",
        "median_values = [nba_median, nfl_median, mlb_median, nhl_median]\n",
        "# Set the position of the bars\n",
        "bar_positions = np.arange(len(groups))\n",
        "bar_width = 0.35\n",
        "\n",
        "plt.figure(figsize=(10, 6))\n",
        "plt.barh(bar_positions, mean_values, bar_width, color='#008fd5', label='Mean')\n",
        "plt.barh(bar_positions + bar_width, median_values, bar_width, color='#fc4f30', label='Median')\n",
        "\n",
        "plt.xlabel('Salaries', fontsize=12)\n",
        "plt.ylabel('League', fontsize=12)\n",
        "#plt.title('Mean and Median Salaries by League 2023', fontsize=14)\n",
        "plt.xticks(fontsize=10)\n",
        "plt.yticks(bar_positions + bar_width / 2, groups, fontsize=10)\n",
        "plt.legend(fontsize=10)\n",
        "plt.grid(axis='x', linestyle='--', linewidth=0.5)\n",
        "plt.gca().spines['top'].set_visible(False)\n",
        "plt.gca().spines['right'].set_visible(False)\n",
        "plt.gca().spines['bottom'].set_linewidth(0.5)\n",
        "plt.gca().spines['left'].set_linewidth(0.5)\n",
        "plt.gca().set_facecolor('#f7f7f7')\n",
        "\n",
        "formatter = ticker.FuncFormatter(lambda x, pos: f'{x/1e6:.1f}M')\n",
        "plt.gca().xaxis.set_major_formatter(formatter)\n",
        "\n",
        "plt.tight_layout()\n",
        "plt.show()\n"
      ],
      "metadata": {
        "id": "KO_hAPleli7m",
        "colab": {
          "base_uri": "https://localhost:8080/",
          "height": 607
        },
        "outputId": "fa5727fb-1d86-4de7-e360-e78452157ffb"
      },
      "execution_count": null,
      "outputs": [
        {
          "output_type": "display_data",
          "data": {
            "text/plain": [
              "<Figure size 1000x600 with 1 Axes>"
            ],
            "image/png": "[encoded data removed]"
          },
          "metadata": {}
        }
      ]
    },
    {
      "cell_type": "code",
      "source": [
        "import seaborn as sns\n",
        "from matplotlib.ticker import ScalarFormatter\n",
        "from matplotlib.ticker import FuncFormatter\n",
        "from matplotlib.lines import Line2D\n",
        "from scipy.stats import gaussian_kde\n"
      ],
      "metadata": {
        "id": "-bv2-2lrnbCO"
      },
      "execution_count": null,
      "outputs": []
    },
    {
      "cell_type": "code",
      "source": [],
      "metadata": {
        "id": "k7S5nHTesRkw"
      },
      "execution_count": null,
      "outputs": []
    },
    {
      "cell_type": "code",
      "source": [
        "# Extract the \"Average Income\" columns\n",
        "nba_income = nba['AAV']\n",
        "nfl_income = nfl['AAV']\n",
        "mlb_income = mlb['AAV']\n",
        "nhl_income = nhl['AAV']\n",
        "\n",
        "# Combine the income data into a single DataFrame\n",
        "combined_data = pd.DataFrame({'NBA': nba_income, 'NFL': nfl_income, 'MLB': mlb_income, 'NHL': nhl_income})\n",
        "\n",
        "# Create a violin plot\n",
        "sns.violinplot(data=combined_data)\n",
        "\n",
        "# Add labels to the plot\n",
        "plt.xlabel('League')\n",
        "plt.ylabel('Average Salaries')\n",
        "\n",
        "def millions_formatter(x, pos):\n",
        "    return f'{int(x/1e6)}M'\n",
        "\n",
        "# Apply the formatter to the y-axis tick labels\n",
        "plt.gca().yaxis.set_major_formatter(FuncFormatter(millions_formatter))\n",
        "plt.yticks([0, 5e6, 1e7, 1.5e7, 2e7, 2.5e7, 3e7, 3.5e7, 4e7, 4.5e7, 5e7, 5.5e7, 6e7, 6.5e7])\n",
        "plt.ylim(-10000000, 70000000)\n",
        "# plt.title('Density Distribution of Salaries by League 2023')\n",
        "\n",
        "mean_positions = [nba_average, nfl_average, mlb_average, nhl_average]\n",
        "labels = ['NBA', 'NFL', 'MLB', 'NHL']\n",
        "colors = ['white', 'white', 'white', 'white']\n",
        "icons = ['D', 'D', 'D', 'D']\n",
        "\n",
        "for x, label, color, icon in zip(mean_positions, labels, colors, icons):\n",
        "    if label == 'NBA':\n",
        "        position = 0\n",
        "    elif label == 'NFL':\n",
        "        position = 1\n",
        "    elif label == 'MLB':\n",
        "        position = 2\n",
        "    elif label == 'NHL':\n",
        "        position = 3\n",
        "    plt.plot(position, x, color=color, marker=icon, markersize=2.5, label=f'{label} Mean')  # Add a marker on top of the plot\n",
        "\n",
        "# Create a custom legend entry for the median\n",
        "median_legend_entry = Line2D([0], [0], marker='o', color='white', markersize=5, label='Median')\n",
        "mean_legend_entry = Line2D([0], [0], marker='D', color='white', markersize=5, label='Mean')\n",
        "\n",
        "# Display the legend with custom entries\n",
        "legend = plt.legend(handles=[median_legend_entry, mean_legend_entry], facecolor='darkgray')\n",
        "\n",
        "\n",
        "# Set the legend background color\n",
        "legend.get_frame().set_facecolor('darkgray')\n",
        "\n",
        "# Display the plot\n",
        "plt.show()"
      ],
      "metadata": {
        "colab": {
          "base_uri": "https://localhost:8080/",
          "height": 449
        },
        "id": "M7W1u-9S4-jj",
        "outputId": "8040de5e-395a-417d-ab4a-815b78020c3c"
      },
      "execution_count": null,
      "outputs": [
        {
          "output_type": "display_data",
          "data": {
            "text/plain": [
              "<Figure size 640x480 with 1 Axes>"
            ],
            "image/png": "[encoded data removed]"
          },
          "metadata": {}
        }
      ]
    },
    {
      "cell_type": "code",
      "source": [
        "import numpy as np\n",
        "\n",
        "# Calculate the quartiles and interquartile range for each league\n",
        "nba_q1, nba_q3 = np.percentile(nba_income, [25, 75])\n",
        "nfl_q1, nfl_q3 = np.percentile(nfl_income, [25, 75])\n",
        "mlb_q1, mlb_q3 = np.percentile(mlb_income, [25, 75])\n",
        "nhl_q1, nhl_q3 = np.percentile(nhl_income, [25, 75])\n",
        "\n",
        "nba_iqr = nba_q3 - nba_q1\n",
        "nfl_iqr = nfl_q3 - nfl_q1\n",
        "mlb_iqr = mlb_q3 - mlb_q1\n",
        "nhl_iqr = nhl_q3 - nhl_q1\n",
        "\n",
        "# Define the outlier threshold (e.g., 1.5 times the IQR)\n",
        "outlier_threshold = 1.5\n",
        "\n",
        "# Calculate the upper and lower bounds for outliers for each league\n",
        "nba_lower_bound = nba_q1 - outlier_threshold * nba_iqr\n",
        "nba_upper_bound = nba_q3 + outlier_threshold * nba_iqr\n",
        "nfl_lower_bound = nfl_q1 - outlier_threshold * nfl_iqr\n",
        "nfl_upper_bound = nfl_q3 + outlier_threshold * nfl_iqr\n",
        "mlb_lower_bound = mlb_q1 - outlier_threshold * mlb_iqr\n",
        "mlb_upper_bound = mlb_q3 + outlier_threshold * mlb_iqr\n",
        "nhl_lower_bound = nhl_q1 - outlier_threshold * nhl_iqr\n",
        "nhl_upper_bound = nhl_q3 + outlier_threshold * nhl_iqr\n",
        "\n",
        "# Count the number of outliers for each league\n",
        "nba_outliers = np.sum((nba_income < nba_lower_bound) | (nba_income > nba_upper_bound))\n",
        "nfl_outliers = np.sum((nfl_income < nfl_lower_bound) | (nfl_income > nfl_upper_bound))\n",
        "mlb_outliers = np.sum((mlb_income < mlb_lower_bound) | (mlb_income > mlb_upper_bound))\n",
        "nhl_outliers = np.sum((nhl_income < nhl_lower_bound) | (nhl_income > nhl_upper_bound))\n",
        "\n",
        "# Print the number of outliers for each league\n",
        "print(\"Number of outliers:\")\n",
        "print(f\"NBA: {nba_outliers}\")\n",
        "print(f\"NFL: {nfl_outliers}\")\n",
        "print(f\"MLB: {mlb_outliers}\")\n",
        "print(f\"NHL: {nhl_outliers}\")\n"
      ],
      "metadata": {
        "colab": {
          "base_uri": "https://localhost:8080/"
        },
        "id": "bY_lNk7utk9j",
        "outputId": "08999b08-633e-448a-b08a-828c8994f4b5"
      },
      "execution_count": null,
      "outputs": [
        {
          "output_type": "stream",
          "name": "stdout",
          "text": [
            "Number of outliers:\n",
            "NBA: 20\n",
            "NFL: 453\n",
            "MLB: 114\n",
            "NHL: 0\n"
          ]
        }
      ]
    },
    {
      "cell_type": "code",
      "source": [
        "# # Calculate the kernel density estimates for each league's income data\n",
        "# nba_density = gaussian_kde(nba_income)\n",
        "# nfl_density = gaussian_kde(nfl_income)\n",
        "# mlb_density = gaussian_kde(mlb_income)\n",
        "# nhl_density = gaussian_kde(nhl_income)\n",
        "\n",
        "# # Calculate the densities at the median and mean\n",
        "# nba_density_at_median = nba_density.evaluate([nba_median])\n",
        "# nfl_density_at_median = nfl_density.evaluate([nfl_median])\n",
        "# mlb_density_at_median = mlb_density.evaluate([mlb_median])\n",
        "# nhl_density_at_median = nhl_density.evaluate([nhl_median])\n",
        "\n",
        "# nba_density_at_mean = nba_density.evaluate([nba_average])\n",
        "# nfl_density_at_mean = nfl_density.evaluate([nfl_average])\n",
        "# mlb_density_at_mean = mlb_density.evaluate([mlb_average])\n",
        "# nhl_density_at_mean = nhl_density.evaluate([nhl_average])"
      ],
      "metadata": {
        "id": "T5Iruuh1oliL"
      },
      "execution_count": null,
      "outputs": []
    },
    {
      "cell_type": "code",
      "source": [
        "# # Print the densities at the median and mean\n",
        "# print(\"Density at the median:\")\n",
        "# print(\"NBA:\", '{:.9f}'.format(nba_density_at_median[0]))\n",
        "# print(\"NFL:\", '{:.9f}'.format(nfl_density_at_median[0]))\n",
        "# print(\"MLB:\", '{:.9f}'.format(mlb_density_at_median[0]))\n",
        "# print(\"NHL:\", '{:.9f}'.format(nhl_density_at_median[0]))\n",
        "\n",
        "# print(\"\\nDensity at the mean:\")\n",
        "# print(\"NBA:\", '{:.9f}'.format(nba_density_at_mean[0]))\n",
        "# print(\"NFL:\", '{:.9f}'.format(nfl_density_at_mean[0]))\n",
        "# print(\"MLB:\", '{:.9f}'.format(mlb_density_at_mean[0]))\n",
        "# print(\"NHL:\", '{:.9f}'.format(nhl_density_at_mean[0]))\n"
      ],
      "metadata": {
        "id": "f-kzYlDLuWjV"
      },
      "execution_count": null,
      "outputs": []
    },
    {
      "cell_type": "code",
      "source": [
        "# # Calculate the kernel density estimates for each league's income data\n",
        "# nba_density = gaussian_kde(nba_income)\n",
        "# nfl_density = gaussian_kde(nfl_income)\n",
        "# mlb_density = gaussian_kde(mlb_income)\n",
        "# nhl_density = gaussian_kde(nhl_income)\n",
        "\n",
        "# # Evaluate the density over a range of values\n",
        "# x = np.linspace(0, 7e7, 1000)  # Adjust the range as needed\n",
        "\n",
        "# # Evaluate the densities at the given range\n",
        "# nba_density_values = nba_density(x)\n",
        "# nfl_density_values = nfl_density(x)\n",
        "# mlb_density_values = mlb_density(x)\n",
        "# nhl_density_values = nhl_density(x)\n",
        "\n",
        "# # Find the maximum density values and their corresponding range for each league\n",
        "# nba_max_density = np.max(nba_density_values)\n",
        "# nba_density_range = x[np.argmax(nba_density_values)]\n",
        "\n",
        "# nfl_max_density = np.max(nfl_density_values)\n",
        "# nfl_density_range = x[np.argmax(nfl_density_values)]\n",
        "\n",
        "# mlb_max_density = np.max(mlb_density_values)\n",
        "# mlb_density_range = x[np.argmax(mlb_density_values)]\n",
        "\n",
        "# nhl_max_density = np.max(nhl_density_values)\n",
        "# nhl_density_range = x[np.argmax(nhl_density_values)]\n",
        "\n",
        "# # Print the maximum density values and their corresponding range for each league\n",
        "# # Print the maximum density values and their corresponding range for each league\n",
        "# print(\"NBA - Maximum Density: {:.9f}\".format(nba_max_density))\n",
        "# print(\"NBA - Density Range: {:.0f}\".format(nba_density_range))\n",
        "\n",
        "# print(\"NFL - Maximum Density: {:.9f}\".format(nfl_max_density))\n",
        "# print(\"NFL - Density Range: {:.0f}\".format(nfl_density_range))\n",
        "\n",
        "# # print(\"ML - Maximum Density: {:.9f}\".format(mlb_max_density))\n",
        "# print(\"MLB - Density Range: {:.0f}\".format(mlb_density_range))\n",
        "\n",
        "# print(\"NHL - Maximum Density: {:.9f}\".format(nhl_max_density))\n",
        "# print(\"NHL - Density Range: {:.0f}\".format(nhl_density_range))\n"
      ],
      "metadata": {
        "id": "8SRAgr5xulZw"
      },
      "execution_count": null,
      "outputs": []
    },
    {
      "cell_type": "code",
      "source": [],
      "metadata": {
        "id": "Ct0xoG02MKWg"
      },
      "execution_count": null,
      "outputs": []
    },
    {
      "cell_type": "code",
      "source": [
        "# # Calculate the mean and standard deviation of MLB salaries\n",
        "# mlb_mean = mlb['AAV'].mean()\n",
        "# mlb_std = mlb['AAV'].std()\n",
        "\n",
        "# # Calculate the lower and upper bounds for one standard deviation\n",
        "# lower_bound = mlb_mean - mlb_std\n",
        "# upper_bound = mlb_mean + mlb_std\n",
        "\n",
        "# # Filter the players within one standard deviation\n",
        "# within_std = mlb[(mlb['AAV'] >= lower_bound) & (mlb['AAV'] <= upper_bound)]\n",
        "\n",
        "# # Count the number of players within one standard deviation\n",
        "# num_within_std = within_std.shape[0]\n",
        "\n",
        "# print(f\"Number of players within 1 standard deviation: {num_within_std}\")\n"
      ],
      "metadata": {
        "id": "6pn0nsliRb3A"
      },
      "execution_count": null,
      "outputs": []
    },
    {
      "cell_type": "code",
      "source": [
        "# # Calculate the mean salary of MLB players\n",
        "# mlb_mean = mlb['AAV'].mean()\n",
        "\n",
        "# # Define the range around the mean\n",
        "# range_width = 1000000  # Adjust this value as desired\n",
        "# lower_bound = mlb_mean - range_width/2\n",
        "# upper_bound = mlb_mean + range_width/2\n",
        "\n",
        "# Filter the players within the range around the mean\n",
        "around_mean = nfl[(nfl['AAV'] >= 0) & (nfl['AAV'] <= 5000000)]\n",
        "\n",
        "# Count the number of players around the mean\n",
        "num_around_mean = around_mean.shape[0]\n",
        "\n",
        "print(f\"Number of players around the mean: {num_around_mean}\")\n"
      ],
      "metadata": {
        "colab": {
          "base_uri": "https://localhost:8080/"
        },
        "id": "0g_RhrwySxGq",
        "outputId": "da4d6205-25f5-4db6-dba8-0512ef0f6e93"
      },
      "execution_count": null,
      "outputs": [
        {
          "output_type": "stream",
          "name": "stdout",
          "text": [
            "Number of players around the mean: 2472\n"
          ]
        }
      ]
    },
    {
      "cell_type": "code",
      "source": [
        "# Define the range around the median\n",
        "range_width = 1000000\n",
        "\n",
        "# Calculate the lower and upper bounds of the range\n",
        "lower_bound = mlb_median - range_width / 2\n",
        "upper_bound = mlb_median + range_width / 2\n",
        "\n",
        "# Count the number of people within the range\n",
        "num_people_around_median = ((mlb_income >= lower_bound) & (mlb_income <= upper_bound)).sum()\n",
        "\n",
        "print(f\"Number of people making around the median: {num_people_around_median}\")\n"
      ],
      "metadata": {
        "colab": {
          "base_uri": "https://localhost:8080/"
        },
        "id": "ulPh47vZWuAp",
        "outputId": "3e381c68-4dc2-4f2b-cddb-34674bdf59d0"
      },
      "execution_count": null,
      "outputs": [
        {
          "output_type": "stream",
          "name": "stdout",
          "text": [
            "Number of people making around the median: 562\n"
          ]
        }
      ]
    },
    {
      "cell_type": "code",
      "source": [
        "salaries = nba['AAV'].values\n",
        "\n",
        "# Sort the salaries in descending order\n",
        "sorted_salaries = np.sort(salaries)[::-1]\n",
        "\n",
        "# Calculate the total number of players\n",
        "total_players = len(sorted_salaries)\n",
        "\n",
        "# Calculate the index position for the top 5% threshold\n",
        "top_5_percent_index = int(np.floor(0.03 * total_players))\n",
        "\n",
        "# Retrieve the salaries up to the top 5% index position\n",
        "top_5_percent_salaries = sorted_salaries[:top_5_percent_index]\n",
        "\n",
        "# Count the number of salaries within the top 5% range\n",
        "num_players_top_5_percent = len(top_5_percent_salaries)\n",
        "\n",
        "# Print the result\n",
        "print(\"Number of MLB players in the bottom 3% of salaries:\", num_players_top_5_percent)"
      ],
      "metadata": {
        "colab": {
          "base_uri": "https://localhost:8080/"
        },
        "id": "PpDMf4CWYUfr",
        "outputId": "93433568-6af6-43c6-fc90-b7419d176e1e"
      },
      "execution_count": null,
      "outputs": [
        {
          "output_type": "stream",
          "name": "stdout",
          "text": [
            "Number of MLB players in the bottom 3% of salaries: 9\n"
          ]
        }
      ]
    },
    {
      "cell_type": "code",
      "source": [
        "# Assuming you have a DataFrame called 'nhl' with a column 'Salary' representing the salaries\n",
        "nhl_salary_data = nhl['AAV']\n",
        "\n",
        "# Count the number of players with salaries between 0 to 3 million\n",
        "num_players_0to3mil = sum((nhl_salary_data >= 0) & (nhl_salary_data <= 3000000))\n",
        "\n",
        "# Count the number of players with salaries between 3 to 6 million\n",
        "num_players_3to6mil = sum((nhl_salary_data > 3000000) & (nhl_salary_data <= 6000000))\n",
        "num_players_6mil = sum((nhl_salary_data > 6000000))\n",
        "# Print the number of players in each salary range\n",
        "print(\"Number of Players with salaries between 0 to 3 million: \", num_players_0to3mil)\n",
        "print(\"Number of Players with salaries between 3 to 6 million: \", num_players_3to6mil)\n",
        "print(\"Number of Players with salaries between 3 to 6 million: \", num_players_6mil)"
      ],
      "metadata": {
        "colab": {
          "base_uri": "https://localhost:8080/"
        },
        "id": "WEtYToDE55zK",
        "outputId": "ace96e0d-e596-4b11-8c58-f94b7f0161e5"
      },
      "execution_count": null,
      "outputs": [
        {
          "output_type": "stream",
          "name": "stdout",
          "text": [
            "Number of Players with salaries between 0 to 3 million:  251\n",
            "Number of Players with salaries between 3 to 6 million:  180\n",
            "Number of Players with salaries between 3 to 6 million:  125\n"
          ]
        }
      ]
    },
    {
      "cell_type": "code",
      "source": [
        "nba.sort_values('AAV', inplace=True)\n",
        "nfl.sort_values('AAV', inplace=True)\n",
        "mlb.sort_values('AAV', inplace=True)\n",
        "nhl.sort_values('AAV', inplace=True)"
      ],
      "metadata": {
        "id": "_FIMKvnIxdJz"
      },
      "execution_count": null,
      "outputs": []
    },
    {
      "cell_type": "code",
      "source": [
        "mlb_cumulative_income = np.cumsum(mlb['AAV']) / np.sum(mlb['AAV'])\n",
        "nhl_cumulative_income = np.cumsum(nhl['AAV']) / np.sum(nhl['AAV'])\n",
        "nba_cumulative_income = np.cumsum(nba['AAV']) / np.sum(nba['AAV'])\n",
        "nfl_cumulative_income = np.cumsum(nfl['AAV']) / np.sum(nfl['AAV'])\n",
        "\n",
        "mlb_cumulative_income"
      ],
      "metadata": {
        "colab": {
          "base_uri": "https://localhost:8080/"
        },
        "id": "kOTBDvNcnEF-",
        "outputId": "bfac6bd7-35bc-4b11-a0e7-2bb9d5928f66"
      },
      "execution_count": null,
      "outputs": [
        {
          "output_type": "execute_result",
          "data": {
            "text/plain": [
              "904     0.000000\n",
              "1025    0.000149\n",
              "879     0.000298\n",
              "878     0.000446\n",
              "877     0.000595\n",
              "          ...   \n",
              "5       0.966174\n",
              "14      0.973821\n",
              "2       0.982088\n",
              "1       0.991044\n",
              "0       1.000000\n",
              "Name: AAV, Length: 1026, dtype: float64"
            ]
          },
          "metadata": {},
          "execution_count": 90
        }
      ]
    },
    {
      "cell_type": "code",
      "source": [
        "# Determine the minimum length for population_fraction\n",
        "population_fraction1 = np.linspace(0, 1, len(nba_cumulative_income))\n",
        "population_fraction2 = np.linspace(0, 1, len(mlb_cumulative_income))\n",
        "population_fraction3 = np.linspace(0, 1, len(nhl_cumulative_income))\n",
        "population_fraction4 = np.linspace(0, 1, len(nfl_cumulative_income))"
      ],
      "metadata": {
        "id": "4c7KUKqSoMJL"
      },
      "execution_count": null,
      "outputs": []
    },
    {
      "cell_type": "code",
      "source": [
        "# Plot the Lorenz curves\n",
        "plt.plot(population_fraction2, mlb_cumulative_income, label='MLB')\n",
        "plt.plot(population_fraction3, nhl_cumulative_income, label='NHL')\n",
        "plt.plot(population_fraction1, nba_cumulative_income, label='NBA')\n",
        "plt.plot(population_fraction4, nfl_cumulative_income, label='NFL')\n",
        "\n",
        "plt.plot([0, 1], [0, 1], color='red', linestyle='--', label='Perfect Equality')\n",
        "# Add labels and legend\n",
        "plt.xlabel('Cumulative % Population')\n",
        "plt.ylabel('Cumulative % Income')\n",
        "# plt.title('Lorenz Curve')\n",
        "plt.legend()\n",
        "\n",
        "# Show the plot\n",
        "plt.show()"
      ],
      "metadata": {
        "colab": {
          "base_uri": "https://localhost:8080/",
          "height": 449
        },
        "id": "yuIHOX79oQQN",
        "outputId": "f1928537-fca4-4cd4-f68e-9a485211f9c2"
      },
      "execution_count": null,
      "outputs": [
        {
          "output_type": "display_data",
          "data": {
            "text/plain": [
              "<Figure size 640x480 with 1 Axes>"
            ],
            "image/png": "[encoded data removed]"
          },
          "metadata": {}
        }
      ]
    },
    {
      "cell_type": "code",
      "source": [
        "import matplotlib.pyplot as plt\n",
        "from matplotlib.offsetbox import OffsetImage, AnnotationBbox\n",
        "!pip install flags\n",
        "from flags import flags\n",
        "!pip install pycountry\n",
        "from pycountry import pycountry"
      ],
      "metadata": {
        "colab": {
          "base_uri": "https://localhost:8080/"
        },
        "id": "n5CmbJeWc_sb",
        "outputId": "100187ad-fbfe-4e03-fd06-fab0117eea4a"
      },
      "execution_count": null,
      "outputs": [
        {
          "output_type": "stream",
          "name": "stdout",
          "text": [
            "Requirement already satisfied: flags in /usr/local/lib/python3.10/dist-packages (0.0.1.2)\n",
            "Requirement already satisfied: pycountry in /usr/local/lib/python3.10/dist-packages (22.3.5)\n",
            "Requirement already satisfied: setuptools in /usr/local/lib/python3.10/dist-packages (from pycountry) (67.7.2)\n"
          ]
        }
      ]
    },
    {
      "cell_type": "code",
      "source": [
        "# Calculate Gini index for each dataset\n",
        "gini_nba = 1 - np.trapz(nba_cumulative_income, population_fraction1)\n",
        "gini_mlb = 1 - np.trapz(mlb_cumulative_income, population_fraction2)\n",
        "gini_nhl = 1 - np.trapz(nhl_cumulative_income, population_fraction3)\n",
        "gini_nfl = 1 - np.trapz(nfl_cumulative_income, population_fraction4)\n",
        "\n",
        "# Create horizontal bar graph with lines and dots\n",
        "datasets = ['NBA', 'MLB', 'NHL', 'NFL']\n",
        "gini_indices = [gini_nba, gini_mlb, gini_nhl, gini_nfl]\n",
        "colors = ['green', 'blue', 'orange', 'red']  # Assign different colors to each bar\n",
        "\n",
        "fig, ax = plt.subplots()\n",
        "bar_plot = ax.barh(datasets, gini_indices, facecolor='none', edgecolor='none')\n",
        "\n",
        "# Add lines and dots at the end of each bar with corresponding colors\n",
        "for rect, color in zip(bar_plot, colors):\n",
        "    x = rect.get_width()\n",
        "    y = rect.get_y() + rect.get_height() / 2\n",
        "    ax.plot([0, x], [y, y], color=color, linestyle='-', linewidth=1)  # Line\n",
        "    ax.plot(x, y, color=color, marker='o', markersize=5)  # Dot\n",
        "    ax.text(x + 0.01, y - 0.000000000001, f'{x:.2f}', va='bottom', ha='right')\n",
        "\n",
        "ax.set_xlabel('Gini Index')\n",
        "ax.set_ylabel('Sports League')\n",
        "# ax.set_title('Gini Index by League')\n",
        "\n",
        "\n",
        "countries = ['South Africa', 'Finland'] #'Slovakia', 'Slovenia', 'Belarus']\n",
        "gini_indices = [0.6, 0.277]\n",
        "flag_paths = ['south-africa-flag-xs.png', 'finland-flag-xs.png'] #'slovenia-flag-xs.png', 'suriname-flag-xs.png']\n",
        "\n",
        "# Add flags to the plot\n",
        "for i, country in enumerate(countries):\n",
        "    flag_path = flag_paths[i]\n",
        "    img = OffsetImage(plt.imread(flag_path), zoom=0.1)  # Load the flag image\n",
        "    img.image.axes = ax\n",
        "    ab = AnnotationBbox(img, (gini_indices[i], 1.5), frameon=True, pad=0.2)  # Create the AnnotationBbox\n",
        "    ax.add_artist(ab)  # Add the AnnotationBbox to the plot\n",
        "    ax.text(gini_indices[i] - 0.05, 1.2, country, va='center')\n",
        "plt.show()\n"
      ],
      "metadata": {
        "colab": {
          "base_uri": "https://localhost:8080/",
          "height": 449
        },
        "id": "4xDGrMvfuV6x",
        "outputId": "a4fcbcfe-3b15-408d-dd64-c7b28d2c11fa"
      },
      "execution_count": null,
      "outputs": [
        {
          "output_type": "display_data",
          "data": {
            "text/plain": [
              "<Figure size 640x480 with 1 Axes>"
            ],
            "image/png": "[encoded data removed]"
          },
          "metadata": {}
        }
      ]
    },
    {
      "cell_type": "code",
      "source": [
        "# plt.show()"
      ],
      "metadata": {
        "id": "7DaCpCze6RWP"
      },
      "execution_count": null,
      "outputs": []
    },
    {
      "cell_type": "code",
      "source": [
        "# import matplotlib.pyplot as plt\n",
        "# from matplotlib.offsetbox import OffsetImage, AnnotationBbox\n",
        "\n",
        "# # Existing code for calculating Gini indices and creating the bar graph\n",
        "\n",
        "# # Additional data for country flags and Gini indices\n",
        "# countries = ['South Africa', 'Namibia', 'Suriname', 'Slovakia', 'Slovenia', 'Belarus']\n",
        "# gini_indices = [0.6, 0.591, 0.579, 0.232, 0.244, 0.244]\n",
        "# flag_paths = ['south-africa-flag-xs.png', 'namibia-flag-xs.png', 'suriname-flag-xs.png', 'slovakia-flag-xs.png', 'slovenia-flag-xs.png', 'suriname-flag-xs.png']\n",
        "\n",
        "# # Add flags to the plot\n",
        "# for i, country in enumerate(countries):\n",
        "#     flag_path = flag_paths[i]\n",
        "#     img = OffsetImage(plt.imread(flag_path), zoom=0.15)  # Load the flag image\n",
        "#     img.image.axes = ax\n",
        "#     ab = AnnotationBbox(img, (gini_indices[i], i), frameon=False, pad=0.2)  # Create the AnnotationBbox\n",
        "#     ax.add_artist(ab)  # Add the AnnotationBbox to the plot\n",
        "\n",
        "# # Show the plot\n",
        "# plt.show()\n"
      ],
      "metadata": {
        "id": "RFmOBQz9fLQF"
      },
      "execution_count": null,
      "outputs": []
    },
    {
      "cell_type": "code",
      "source": [],
      "metadata": {
        "id": "VUFnPrvMb0nu"
      },
      "execution_count": null,
      "outputs": []
    }
  ]
}